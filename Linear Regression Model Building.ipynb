{
 "cells": [
  {
   "cell_type": "markdown",
   "metadata": {},
   "source": [
    "# Simple Linear Regression Model Building"
   ]
  },
  {
   "cell_type": "markdown",
   "metadata": {},
   "source": [
    "# Loading Data"
   ]
  },
  {
   "cell_type": "code",
   "execution_count": 1,
   "metadata": {},
   "outputs": [
    {
     "data": {
      "text/html": [
       "<table>\n",
       "<thead><tr><th scope=col>CouponRate</th><th scope=col>BidPrice</th></tr></thead>\n",
       "<tbody>\n",
       "\t<tr><td> 7.000</td><td> 92.94</td></tr>\n",
       "\t<tr><td> 9.000</td><td>101.44</td></tr>\n",
       "\t<tr><td> 7.000</td><td> 92.66</td></tr>\n",
       "\t<tr><td> 4.125</td><td> 94.50</td></tr>\n",
       "\t<tr><td>13.125</td><td>118.94</td></tr>\n",
       "\t<tr><td> 8.000</td><td> 96.75</td></tr>\n",
       "</tbody>\n",
       "</table>\n"
      ],
      "text/latex": [
       "\\begin{tabular}{r|ll}\n",
       " CouponRate & BidPrice\\\\\n",
       "\\hline\n",
       "\t  7.000 &  92.94\\\\\n",
       "\t  9.000 & 101.44\\\\\n",
       "\t  7.000 &  92.66\\\\\n",
       "\t  4.125 &  94.50\\\\\n",
       "\t 13.125 & 118.94\\\\\n",
       "\t  8.000 &  96.75\\\\\n",
       "\\end{tabular}\n"
      ],
      "text/markdown": [
       "\n",
       "| CouponRate | BidPrice |\n",
       "|---|---|\n",
       "|  7.000 |  92.94 |\n",
       "|  9.000 | 101.44 |\n",
       "|  7.000 |  92.66 |\n",
       "|  4.125 |  94.50 |\n",
       "| 13.125 | 118.94 |\n",
       "|  8.000 |  96.75 |\n",
       "\n"
      ],
      "text/plain": [
       "  CouponRate BidPrice\n",
       "1  7.000      92.94  \n",
       "2  9.000     101.44  \n",
       "3  7.000      92.66  \n",
       "4  4.125      94.50  \n",
       "5 13.125     118.94  \n",
       "6  8.000      96.75  "
      ]
     },
     "metadata": {},
     "output_type": "display_data"
    },
    {
     "data": {
      "text/html": [
       "<table>\n",
       "<thead><tr><th></th><th scope=col>CouponRate</th><th scope=col>BidPrice</th></tr></thead>\n",
       "<tbody>\n",
       "\t<tr><th scope=row>30</th><td>8.875 </td><td> 99.88</td></tr>\n",
       "\t<tr><th scope=row>31</th><td>8.125 </td><td> 95.16</td></tr>\n",
       "\t<tr><th scope=row>32</th><td>9.000 </td><td>100.66</td></tr>\n",
       "\t<tr><th scope=row>33</th><td>9.250 </td><td>102.31</td></tr>\n",
       "\t<tr><th scope=row>34</th><td>7.000 </td><td> 88.00</td></tr>\n",
       "\t<tr><th scope=row>35</th><td>3.500 </td><td> 94.53</td></tr>\n",
       "</tbody>\n",
       "</table>\n"
      ],
      "text/latex": [
       "\\begin{tabular}{r|ll}\n",
       "  & CouponRate & BidPrice\\\\\n",
       "\\hline\n",
       "\t30 & 8.875  &  99.88\\\\\n",
       "\t31 & 8.125  &  95.16\\\\\n",
       "\t32 & 9.000  & 100.66\\\\\n",
       "\t33 & 9.250  & 102.31\\\\\n",
       "\t34 & 7.000  &  88.00\\\\\n",
       "\t35 & 3.500  &  94.53\\\\\n",
       "\\end{tabular}\n"
      ],
      "text/markdown": [
       "\n",
       "| <!--/--> | CouponRate | BidPrice |\n",
       "|---|---|---|\n",
       "| 30 | 8.875  |  99.88 |\n",
       "| 31 | 8.125  |  95.16 |\n",
       "| 32 | 9.000  | 100.66 |\n",
       "| 33 | 9.250  | 102.31 |\n",
       "| 34 | 7.000  |  88.00 |\n",
       "| 35 | 3.500  |  94.53 |\n",
       "\n"
      ],
      "text/plain": [
       "   CouponRate BidPrice\n",
       "30 8.875       99.88  \n",
       "31 8.125       95.16  \n",
       "32 9.000      100.66  \n",
       "33 9.250      102.31  \n",
       "34 7.000       88.00  \n",
       "35 3.500       94.53  "
      ]
     },
     "metadata": {},
     "output_type": "display_data"
    }
   ],
   "source": [
    "bonds = read.delim(\"bonds.txt\", row.names = 1)\n",
    "head(bonds)\n",
    "tail(bonds)"
   ]
  },
  {
   "cell_type": "markdown",
   "metadata": {},
   "source": [
    "## Coupon Rate\n",
    "CouponRate refers to the fixed interest rate that the issuer pays to the lender\n",
    "\n",
    "## Bid Price\n",
    "BidPrice is the price someone is willing to pay for the bond"
   ]
  },
  {
   "cell_type": "code",
   "execution_count": 2,
   "metadata": {},
   "outputs": [
    {
     "name": "stdout",
     "output_type": "stream",
     "text": [
      "'data.frame':\t35 obs. of  2 variables:\n",
      " $ CouponRate: num  7 9 7 4.12 13.12 ...\n",
      " $ BidPrice  : num  92.9 101.4 92.7 94.5 118.9 ...\n"
     ]
    }
   ],
   "source": [
    "str(bonds)"
   ]
  },
  {
   "cell_type": "code",
   "execution_count": 3,
   "metadata": {},
   "outputs": [
    {
     "data": {
      "text/plain": [
       "   CouponRate        BidPrice     \n",
       " Min.   : 3.000   Min.   : 88.00  \n",
       " 1st Qu.: 8.062   1st Qu.: 95.95  \n",
       " Median : 8.875   Median :100.38  \n",
       " Mean   : 8.921   Mean   :102.14  \n",
       " 3rd Qu.:10.438   3rd Qu.:108.11  \n",
       " Max.   :13.125   Max.   :119.06  "
      ]
     },
     "metadata": {},
     "output_type": "display_data"
    }
   ],
   "source": [
    "summary(bonds)"
   ]
  },
  {
   "cell_type": "code",
   "execution_count": 4,
   "metadata": {},
   "outputs": [
    {
     "data": {
      "image/png": "[encoded data removed]",
      "text/plain": [
       "Plot with title \"Bid Price vs Coupon Rate\""
      ]
     },
     "metadata": {},
     "output_type": "display_data"
    }
   ],
   "source": [
    "plot(bonds$CouponRate, bonds$BidPrice, main = \"Bid Price vs Coupon Rate\", xlab= \"Coupon Rate\", ylab=\"Bid Price\")"
   ]
  },
  {
   "cell_type": "markdown",
   "metadata": {},
   "source": [
    "## Linear Regression Model Required to remove Outliers"
   ]
  },
  {
   "cell_type": "code",
   "execution_count": 5,
   "metadata": {},
   "outputs": [
    {
     "data": {
      "text/html": [],
      "text/latex": [],
      "text/markdown": [],
      "text/plain": [
       "integer(0)"
      ]
     },
     "metadata": {},
     "output_type": "display_data"
    },
    {
     "data": {
      "image/png": "[encoded data removed]",
      "text/plain": [
       "Plot with title \"Bid Price vs Coupon Rate\""
      ]
     },
     "metadata": {},
     "output_type": "display_data"
    }
   ],
   "source": [
    "bondsmod = lm(bonds$BidPrice ~ bonds$CouponRate)\n",
    "\n",
    "plot(bonds$CouponRate, bonds$BidPrice, main = \"Bid Price vs Coupon Rate\", xlab= \"Coupon Rate\", ylab=\"Bid Price\") + abline(bondsmod)"
   ]
  },
  {
   "cell_type": "code",
   "execution_count": 6,
   "metadata": {},
   "outputs": [
    {
     "data": {
      "text/plain": [
       "\n",
       "Call:\n",
       "lm(formula = bonds$BidPrice ~ bonds$CouponRate)\n",
       "\n",
       "Residuals:\n",
       "   Min     1Q Median     3Q    Max \n",
       "-8.249 -2.470 -0.838  2.550 10.515 \n",
       "\n",
       "Coefficients:\n",
       "                 Estimate Std. Error t value Pr(>|t|)    \n",
       "(Intercept)       74.7866     2.8267  26.458  < 2e-16 ***\n",
       "bonds$CouponRate   3.0661     0.3068   9.994 1.64e-11 ***\n",
       "---\n",
       "Signif. codes:  0 '***' 0.001 '**' 0.01 '*' 0.05 '.' 0.1 ' ' 1\n",
       "\n",
       "Residual standard error: 4.175 on 33 degrees of freedom\n",
       "Multiple R-squared:  0.7516,\tAdjusted R-squared:  0.7441 \n",
       "F-statistic: 99.87 on 1 and 33 DF,  p-value: 1.645e-11\n"
      ]
     },
     "metadata": {},
     "output_type": "display_data"
    }
   ],
   "source": [
    "summary(bondsmod)"
   ]
  },
  {
   "cell_type": "markdown",
   "metadata": {},
   "source": [
    "# First Level Model Assesment"
   ]
  },
  {
   "cell_type": "markdown",
   "metadata": {},
   "source": [
    "R<sup>2</sup> = 0.7516 -> Not a good enough fit"
   ]
  },
  {
   "cell_type": "markdown",
   "metadata": {},
   "source": [
    "# Hypothesis Testing"
   ]
  },
  {
   "cell_type": "markdown",
   "metadata": {},
   "source": [
    "## Hypothesis Testing on coefficients\n",
    "\n",
    "Checking wether the Slope coefficient is significant or not\n",
    "\n",
    "**Null Hypothesis**: H<sub>0</sub> : m = 0 => y<sub>i</sub> = c + e<sub>i</sub>     *\\[Reduced Model\\]*\n",
    "\n",
    "**Alternate Hypothesis**: H<sub>1</sub> : m != 0 => y<sub>i</sub> = c + mx<sub>i</sub> + e<sub>i</sub>    *\\[Full Model\\]*\n",
    "\n",
    "** This is a Two Sided Test **\n",
    "\n",
    "alpha = 0.05 i.e 95% confidence level"
   ]
  },
  {
   "cell_type": "code",
   "execution_count": 7,
   "metadata": {},
   "outputs": [
    {
     "data": {
      "text/html": [
       "2.03451529744934"
      ],
      "text/latex": [
       "2.03451529744934"
      ],
      "text/markdown": [
       "2.03451529744934"
      ],
      "text/plain": [
       "[1] 2.034515"
      ]
     },
     "metadata": {},
     "output_type": "display_data"
    }
   ],
   "source": [
    "alpha = 0.05\n",
    "n = 35\n",
    "p = 1\n",
    "qt(p = 1-(alpha/2), df = n-p-1)"
   ]
  },
  {
   "cell_type": "markdown",
   "metadata": {},
   "source": [
    "## Confidence Interval:\n",
    "\n",
    "c = 3.0661 (Estimate)\n",
    "\n",
    "Standard Deviation associated = 0.3068 (standard error)\n",
    "\n",
    "Hence, confidence level = estimate +/- (critical value * standard error)"
   ]
  },
  {
   "cell_type": "code",
   "execution_count": 8,
   "metadata": {},
   "outputs": [
    {
     "data": {
      "text/html": [
       "2.441910798"
      ],
      "text/latex": [
       "2.441910798"
      ],
      "text/markdown": [
       "2.441910798"
      ],
      "text/plain": [
       "[1] 2.441911"
      ]
     },
     "metadata": {},
     "output_type": "display_data"
    },
    {
     "data": {
      "text/html": [
       "3.690289202"
      ],
      "text/latex": [
       "3.690289202"
      ],
      "text/markdown": [
       "3.690289202"
      ],
      "text/plain": [
       "[1] 3.690289"
      ]
     },
     "metadata": {},
     "output_type": "display_data"
    }
   ],
   "source": [
    "3.0661 - (2.034515*0.3068)\n",
    "3.0661 + (2.034515*0.3068)"
   ]
  },
  {
   "cell_type": "markdown",
   "metadata": {},
   "source": [
    "## Conclusion:\n",
    "\n",
    "* Reject Null Hypothesis since the confidence interval does not include 0\n",
    "* Thus Slope of the regression line is significant"
   ]
  },
  {
   "cell_type": "markdown",
   "metadata": {},
   "source": [
    "# Checking for Outliers\n",
    "\n",
    "Points are considered to be an outlier if the corresponding standardized residuals lie outside \\[-2, 2\\] at 5% level of significance.\n",
    "\n",
    "Remove outliers one at a time for each iteration and apply regression after removal of one.\n",
    "\n",
    "Keep doing so unless all the Outliers are removed."
   ]
  },
  {
   "cell_type": "markdown",
   "metadata": {},
   "source": [
    "# Residual Analysis"
   ]
  },
  {
   "cell_type": "code",
   "execution_count": 9,
   "metadata": {},
   "outputs": [
    {
     "data": {
      "text/html": [],
      "text/latex": [],
      "text/markdown": [],
      "text/plain": [
       "integer(0)"
      ]
     },
     "metadata": {},
     "output_type": "display_data"
    },
    {
     "data": {
      "image/png": "[encoded data removed]",
      "text/plain": [
       "Plot with title \"Residual Plot\""
      ]
     },
     "metadata": {},
     "output_type": "display_data"
    }
   ],
   "source": [
    "plot(bondsmod$fitted.values, rstandard(bondsmod), main=\"Residual Plot\", xlab=\"Predicted Values for Bid Price\", ylab=\"Standardized Residuals\") + abline(h=2, lty=2) + abline(h=-2, lty=2)"
   ]
  },
  {
   "cell_type": "code",
   "execution_count": 10,
   "metadata": {},
   "outputs": [
    {
     "ename": "ERROR",
     "evalue": "Error in identify.default(bondsmod$fitted.values, rstandard(bondsmod)): plot.new has not been called yet\n",
     "output_type": "error",
     "traceback": [
      "Error in identify.default(bondsmod$fitted.values, rstandard(bondsmod)): plot.new has not been called yet\nTraceback:\n",
      "1. identify(bondsmod$fitted.values, rstandard(bondsmod))",
      "2. identify.default(bondsmod$fitted.values, rstandard(bondsmod))"
     ]
    }
   ],
   "source": [
    "# Allows you to click on the points straight from the plotted graph in Rstudio\n",
    "outliers = identify(bondsmod$fitted.values, rstandard(bondsmod))"
   ]
  },
  {
   "cell_type": "code",
   "execution_count": 11,
   "metadata": {},
   "outputs": [
    {
     "data": {
      "text/html": [
       "<ol class=list-inline>\n",
       "\t<li>4</li>\n",
       "\t<li>13</li>\n",
       "\t<li>34</li>\n",
       "\t<li>35</li>\n",
       "</ol>\n"
      ],
      "text/latex": [
       "\\begin{enumerate*}\n",
       "\\item 4\n",
       "\\item 13\n",
       "\\item 34\n",
       "\\item 35\n",
       "\\end{enumerate*}\n"
      ],
      "text/markdown": [
       "1. 4\n",
       "2. 13\n",
       "3. 34\n",
       "4. 35\n",
       "\n",
       "\n"
      ],
      "text/plain": [
       "[1]  4 13 34 35"
      ]
     },
     "metadata": {},
     "output_type": "display_data"
    }
   ],
   "source": [
    "outliers = which(as.matrix(rstandard(bondsmod)) > 2 | as.matrix(rstandard(bondsmod) < -2))\n",
    "outliers = c(4, outliers) # Four was added as its very close to the +2 line\n",
    "outliers"
   ]
  },
  {
   "cell_type": "markdown",
   "metadata": {},
   "source": [
    "# Removing Outliers all at once"
   ]
  },
  {
   "cell_type": "code",
   "execution_count": null,
   "metadata": {},
   "outputs": [],
   "source": [
    "bonds_new = bonds[-outliers,]"
   ]
  },
  {
   "cell_type": "code",
   "execution_count": null,
   "metadata": {},
   "outputs": [],
   "source": [
    "bondsmod_new = lm(bonds_new$BidPrice ~ bonds_new$CouponRate)"
   ]
  },
  {
   "cell_type": "code",
   "execution_count": null,
   "metadata": {},
   "outputs": [],
   "source": [
    "summary(bondsmod)\n",
    "summary(bondsmod_new)"
   ]
  },
  {
   "cell_type": "code",
   "execution_count": null,
   "metadata": {},
   "outputs": [],
   "source": [
    "plot(bonds_new$CouponRate, bonds_new$BidPrice, main = \"Bid Price vs Coupon Rate without Outliers\", xlab= \"Coupon Rate\", ylab=\"Bid Price\") + abline(bondsmod_new)"
   ]
  },
  {
   "cell_type": "markdown",
   "metadata": {},
   "source": [
    "# Conclusion\n",
    "\n",
    "Thus removing Outliers improves the best fitted line."
   ]
  },
  {
   "cell_type": "code",
   "execution_count": null,
   "metadata": {},
   "outputs": [],
   "source": []
  }
 ],
 "metadata": {
  "kernelspec": {
   "display_name": "R",
   "language": "R",
   "name": "ir"
  },
  "language_info": {
   "codemirror_mode": "r",
   "file_extension": ".r",
   "mimetype": "text/x-r-source",
   "name": "R",
   "pygments_lexer": "r",
   "version": "3.6.1"
  }
 },
 "nbformat": 4,
 "nbformat_minor": 2
}
